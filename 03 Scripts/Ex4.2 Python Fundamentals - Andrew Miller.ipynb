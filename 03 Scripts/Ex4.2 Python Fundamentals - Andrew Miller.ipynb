{
 "cells": [
  {
   "cell_type": "markdown",
   "id": "a6c3a428-ca63-4184-90f8-f8cfcf5db3d8",
   "metadata": {},
   "source": [
    "# Ex 4.2 Python Fundamentals"
   ]
  },
  {
   "cell_type": "markdown",
   "id": "35652e0f-0c21-4f78-be57-4c5ee833f647",
   "metadata": {},
   "source": [
    "### Importing Libraries"
   ]
  },
  {
   "cell_type": "code",
   "execution_count": 48,
   "id": "c8429c6b-584a-4188-b6bd-569ade2ff556",
   "metadata": {},
   "outputs": [],
   "source": [
    "# Import libraries\n",
    "import pandas as pd\n",
    "import numpy as np\n",
    "import os"
   ]
  },
  {
   "cell_type": "markdown",
   "id": "0aeb2056-f737-404c-9e6e-2fa30d1602b2",
   "metadata": {},
   "source": [
    "### Working with Python Data Types"
   ]
  },
  {
   "cell_type": "code",
   "execution_count": 52,
   "id": "d8bcd306-3957-43bf-a68a-755e768daa04",
   "metadata": {},
   "outputs": [
    {
     "name": "stdout",
     "output_type": "stream",
     "text": [
      "100\n",
      "100\n",
      "100\n"
     ]
    }
   ],
   "source": [
    "#1\n",
    "a = 32\n",
    "b = 68\n",
    "print(a + b)\n",
    "\n",
    "#2\n",
    "c = 105\n",
    "d = 5\n",
    "print(c-d)\n",
    "\n",
    "#3\n",
    "e = 7\n",
    "print(15*e-d)\n"
   ]
  },
  {
   "cell_type": "code",
   "execution_count": 56,
   "id": "856a2609-cb7f-4c71-ba6d-4e2c9540240e",
   "metadata": {},
   "outputs": [
    {
     "name": "stdout",
     "output_type": "stream",
     "text": [
      "3.1415929203539825\n"
     ]
    }
   ],
   "source": [
    "g = 3.55\n",
    "h = 1.13\n",
    "print(g/h)"
   ]
  },
  {
   "cell_type": "code",
   "execution_count": 57,
   "id": "f05aeea6-4dca-4bb4-ae14-e212c53b4c2a",
   "metadata": {},
   "outputs": [
    {
     "name": "stdout",
     "output_type": "stream",
     "text": [
      "arctangent\n"
     ]
    }
   ],
   "source": [
    "i = 'arc'\n",
    "j = 'tan'\n",
    "k = 'gent'\n",
    "\n",
    "print(i+j+k)"
   ]
  },
  {
   "cell_type": "code",
   "execution_count": 63,
   "id": "403d443b-4532-436a-97ba-66206f60f82b",
   "metadata": {},
   "outputs": [
    {
     "name": "stdout",
     "output_type": "stream",
     "text": [
      "she sells sea sells on the sea shore. \n",
      "the sea sells that she sells are sea sells for sure. \n"
     ]
    }
   ],
   "source": [
    "l = 'she '\n",
    "m = 'sells '\n",
    "n = 'sea '\n",
    "o = 'on '\n",
    "p = 'shore. '\n",
    "q = 'the '\n",
    "r = 'that '\n",
    "s = 'are '\n",
    "t = 'for sure. '\n",
    "\n",
    "print(l+m+n+m+o+q+n+p)\n",
    "print(q+n+m+r+l+m+s+n+m+t)"
   ]
  },
  {
   "cell_type": "code",
   "execution_count": 64,
   "id": "66e6588e-44c5-4906-9e57-df522e13b07d",
   "metadata": {},
   "outputs": [
    {
     "name": "stdout",
     "output_type": "stream",
     "text": [
      "she sells sea sells on the sea shore. the sea sells that she sells are sea sells for sure. she sells sea sells on the sea shore. the sea sells that she sells are sea sells for sure. she sells sea sells on the sea shore. the sea sells that she sells are sea sells for sure. she sells sea sells on the sea shore. the sea sells that she sells are sea sells for sure. she sells sea sells on the sea shore. the sea sells that she sells are sea sells for sure. she sells sea sells on the sea shore. the sea sells that she sells are sea sells for sure. she sells sea sells on the sea shore. the sea sells that she sells are sea sells for sure. she sells sea sells on the sea shore. the sea sells that she sells are sea sells for sure. she sells sea sells on the sea shore. the sea sells that she sells are sea sells for sure. she sells sea sells on the sea shore. the sea sells that she sells are sea sells for sure. she sells sea sells on the sea shore. the sea sells that she sells are sea sells for sure. she sells sea sells on the sea shore. the sea sells that she sells are sea sells for sure. she sells sea sells on the sea shore. the sea sells that she sells are sea sells for sure. she sells sea sells on the sea shore. the sea sells that she sells are sea sells for sure. she sells sea sells on the sea shore. the sea sells that she sells are sea sells for sure. she sells sea sells on the sea shore. the sea sells that she sells are sea sells for sure. she sells sea sells on the sea shore. the sea sells that she sells are sea sells for sure. she sells sea sells on the sea shore. the sea sells that she sells are sea sells for sure. she sells sea sells on the sea shore. the sea sells that she sells are sea sells for sure. she sells sea sells on the sea shore. the sea sells that she sells are sea sells for sure. she sells sea sells on the sea shore. the sea sells that she sells are sea sells for sure. she sells sea sells on the sea shore. the sea sells that she sells are sea sells for sure. she sells sea sells on the sea shore. the sea sells that she sells are sea sells for sure. she sells sea sells on the sea shore. the sea sells that she sells are sea sells for sure. she sells sea sells on the sea shore. the sea sells that she sells are sea sells for sure. she sells sea sells on the sea shore. the sea sells that she sells are sea sells for sure. she sells sea sells on the sea shore. the sea sells that she sells are sea sells for sure. she sells sea sells on the sea shore. the sea sells that she sells are sea sells for sure. she sells sea sells on the sea shore. the sea sells that she sells are sea sells for sure. she sells sea sells on the sea shore. the sea sells that she sells are sea sells for sure. she sells sea sells on the sea shore. the sea sells that she sells are sea sells for sure. she sells sea sells on the sea shore. the sea sells that she sells are sea sells for sure. she sells sea sells on the sea shore. the sea sells that she sells are sea sells for sure. she sells sea sells on the sea shore. the sea sells that she sells are sea sells for sure. she sells sea sells on the sea shore. the sea sells that she sells are sea sells for sure. she sells sea sells on the sea shore. the sea sells that she sells are sea sells for sure. she sells sea sells on the sea shore. the sea sells that she sells are sea sells for sure. she sells sea sells on the sea shore. the sea sells that she sells are sea sells for sure. she sells sea sells on the sea shore. the sea sells that she sells are sea sells for sure. she sells sea sells on the sea shore. the sea sells that she sells are sea sells for sure. she sells sea sells on the sea shore. the sea sells that she sells are sea sells for sure. she sells sea sells on the sea shore. the sea sells that she sells are sea sells for sure. she sells sea sells on the sea shore. the sea sells that she sells are sea sells for sure. she sells sea sells on the sea shore. the sea sells that she sells are sea sells for sure. she sells sea sells on the sea shore. the sea sells that she sells are sea sells for sure. she sells sea sells on the sea shore. the sea sells that she sells are sea sells for sure. she sells sea sells on the sea shore. the sea sells that she sells are sea sells for sure. she sells sea sells on the sea shore. the sea sells that she sells are sea sells for sure. she sells sea sells on the sea shore. the sea sells that she sells are sea sells for sure. she sells sea sells on the sea shore. the sea sells that she sells are sea sells for sure. she sells sea sells on the sea shore. the sea sells that she sells are sea sells for sure. she sells sea sells on the sea shore. the sea sells that she sells are sea sells for sure. she sells sea sells on the sea shore. the sea sells that she sells are sea sells for sure. she sells sea sells on the sea shore. the sea sells that she sells are sea sells for sure. she sells sea sells on the sea shore. the sea sells that she sells are sea sells for sure. she sells sea sells on the sea shore. the sea sells that she sells are sea sells for sure. she sells sea sells on the sea shore. the sea sells that she sells are sea sells for sure. she sells sea sells on the sea shore. the sea sells that she sells are sea sells for sure. she sells sea sells on the sea shore. the sea sells that she sells are sea sells for sure. she sells sea sells on the sea shore. the sea sells that she sells are sea sells for sure. she sells sea sells on the sea shore. the sea sells that she sells are sea sells for sure. she sells sea sells on the sea shore. the sea sells that she sells are sea sells for sure. she sells sea sells on the sea shore. the sea sells that she sells are sea sells for sure. she sells sea sells on the sea shore. the sea sells that she sells are sea sells for sure. she sells sea sells on the sea shore. the sea sells that she sells are sea sells for sure. she sells sea sells on the sea shore. the sea sells that she sells are sea sells for sure. she sells sea sells on the sea shore. the sea sells that she sells are sea sells for sure. she sells sea sells on the sea shore. the sea sells that she sells are sea sells for sure. she sells sea sells on the sea shore. the sea sells that she sells are sea sells for sure. she sells sea sells on the sea shore. the sea sells that she sells are sea sells for sure. she sells sea sells on the sea shore. the sea sells that she sells are sea sells for sure. she sells sea sells on the sea shore. the sea sells that she sells are sea sells for sure. she sells sea sells on the sea shore. the sea sells that she sells are sea sells for sure. she sells sea sells on the sea shore. the sea sells that she sells are sea sells for sure. she sells sea sells on the sea shore. the sea sells that she sells are sea sells for sure. she sells sea sells on the sea shore. the sea sells that she sells are sea sells for sure. she sells sea sells on the sea shore. the sea sells that she sells are sea sells for sure. she sells sea sells on the sea shore. the sea sells that she sells are sea sells for sure. she sells sea sells on the sea shore. the sea sells that she sells are sea sells for sure. she sells sea sells on the sea shore. the sea sells that she sells are sea sells for sure. she sells sea sells on the sea shore. the sea sells that she sells are sea sells for sure. she sells sea sells on the sea shore. the sea sells that she sells are sea sells for sure. she sells sea sells on the sea shore. the sea sells that she sells are sea sells for sure. she sells sea sells on the sea shore. the sea sells that she sells are sea sells for sure. she sells sea sells on the sea shore. the sea sells that she sells are sea sells for sure. she sells sea sells on the sea shore. the sea sells that she sells are sea sells for sure. she sells sea sells on the sea shore. the sea sells that she sells are sea sells for sure. she sells sea sells on the sea shore. the sea sells that she sells are sea sells for sure. she sells sea sells on the sea shore. the sea sells that she sells are sea sells for sure. she sells sea sells on the sea shore. the sea sells that she sells are sea sells for sure. she sells sea sells on the sea shore. the sea sells that she sells are sea sells for sure. she sells sea sells on the sea shore. the sea sells that she sells are sea sells for sure. she sells sea sells on the sea shore. the sea sells that she sells are sea sells for sure. she sells sea sells on the sea shore. the sea sells that she sells are sea sells for sure. she sells sea sells on the sea shore. the sea sells that she sells are sea sells for sure. she sells sea sells on the sea shore. the sea sells that she sells are sea sells for sure. she sells sea sells on the sea shore. the sea sells that she sells are sea sells for sure. she sells sea sells on the sea shore. the sea sells that she sells are sea sells for sure. she sells sea sells on the sea shore. the sea sells that she sells are sea sells for sure. she sells sea sells on the sea shore. the sea sells that she sells are sea sells for sure. \n"
     ]
    }
   ],
   "source": [
    "u = l+m+n+m+o+q+n+p+q+n+m+r+l+m+s+n+m+t\n",
    "print(100*u)"
   ]
  },
  {
   "cell_type": "code",
   "execution_count": null,
   "id": "23f6e3e2-e32a-4621-9047-5c6b7b174e34",
   "metadata": {},
   "outputs": [],
   "source": []
  }
 ],
 "metadata": {
  "kernelspec": {
   "display_name": "Python [conda env:base] *",
   "language": "python",
   "name": "conda-base-py"
  },
  "language_info": {
   "codemirror_mode": {
    "name": "ipython",
    "version": 3
   },
   "file_extension": ".py",
   "mimetype": "text/x-python",
   "name": "python",
   "nbconvert_exporter": "python",
   "pygments_lexer": "ipython3",
   "version": "3.13.5"
  }
 },
 "nbformat": 4,
 "nbformat_minor": 5
}
